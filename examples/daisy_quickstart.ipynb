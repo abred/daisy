{
 "cells": [
  {
   "cell_type": "code",
   "execution_count": 2,
   "metadata": {},
   "outputs": [
    {
     "name": "stdout",
     "output_type": "stream",
     "text": [
      "[      0       1       2 ... 4095997 4095998 4095999]\n"
     ]
    }
   ],
   "source": [
    "import numpy as np\n",
    "shape = 4096000\n",
    "\n",
    "a = np.arange(shape, dtype=np.int64)\n",
    "b = np.empty_like(a, dtype=np.int64)\n",
    "\n",
    "print(a)\n",
    "# prints [0 1 2 ... 4095997 4095998 4095999]"
   ]
  },
  {
   "cell_type": "code",
   "execution_count": 3,
   "metadata": {},
   "outputs": [
    {
     "name": "stdout",
     "output_type": "stream",
     "text": [
      "3.48 s ± 27 ms per loop (mean ± std. dev. of 7 runs, 1 loop each)\n",
      "[             0              1              4 ... 16777191424009\n",
      " 16777199616004 16777207808001]\n"
     ]
    }
   ],
   "source": [
    "def process_fn():\n",
    "    # iterating and squaring each element in a and store to b\n",
    "    with np.nditer([a, b],\n",
    "                   op_flags=[['readonly'], ['readwrite']]) as it:\n",
    "        with it:\n",
    "           for x,y in it:\n",
    "                y[...] = x**2\n",
    "\n",
    "%timeit process_fn()  # 3.55 s ± 22.7 ms per loop\n",
    "print(b)\n",
    "# prints [0 1 4 ... 16777191424009 16777199616004 16777207808001]"
   ]
  },
  {
   "cell_type": "code",
   "execution_count": 4,
   "metadata": {},
   "outputs": [],
   "source": [
    "import daisy\n",
    "import zarr\n",
    "\n",
    "shape = 4096000\n",
    "block_shape = 1024*16\n",
    "\n",
    "# input array is wrapped in daisy.Array for easy of Roi indexing\n",
    "a = daisy.Array(np.arange(shape, dtype=np.int64),\n",
    "                roi=daisy.Roi((0,), shape),\n",
    "                voxel_size=(1,))\n",
    "\n",
    "# to parallelize across processes, we need persistent read/write arrays\n",
    "# we'll use zarr here to do do that\n",
    "b = zarr.open_array(zarr.TempStore(), 'w', (shape,),\n",
    "                    chunks=(block_shape,),\n",
    "                    dtype=np.int64)\n",
    "# output array is wrapped in daisy.Array for easy of Roi indexing\n",
    "b = daisy.Array(b,\n",
    "                roi=daisy.Roi((0,), shape),\n",
    "                voxel_size=(1,))"
   ]
  },
  {
   "cell_type": "code",
   "execution_count": 7,
   "metadata": {},
   "outputs": [],
   "source": [
    "# same process function as previously, but with additional code\n",
    "# to read and write data to persistent arrays\n",
    "def process_fn_daisy(block):\n",
    "\n",
    "    a_sub = a[block.read_roi].to_ndarray()\n",
    "    b_sub = np.empty_like(a_sub)\n",
    "    with np.nditer([a_sub, b_sub],\n",
    "                   op_flags=[['readonly'], ['readwrite']],\n",
    "                  ) as it:\n",
    "        with it:\n",
    "           for x,y in it:\n",
    "                y[...] = x**2\n",
    "    \n",
    "    b[block.write_roi] = b_sub"
   ]
  },
  {
   "cell_type": "code",
   "execution_count": 11,
   "metadata": {},
   "outputs": [
    {
     "data": {
      "application/vnd.jupyter.widget-view+json": {
       "model_id": "c81562a5a10c4d27ba037a4b6603471a",
       "version_major": 2,
       "version_minor": 0
      },
      "text/plain": [
       "square ▶:   0%|          | 0/250 [00:00<?, ?blocks/s]"
      ]
     },
     "metadata": {},
     "output_type": "display_data"
    },
    {
     "name": "stdout",
     "output_type": "stream",
     "text": [
      "\n",
      "Execution Summary\n",
      "-----------------\n",
      "\n",
      "  Task square:\n",
      "\n",
      "    num blocks : 250\n",
      "    completed ✔: 250 (skipped 0)\n",
      "    failed    ✗: 0\n",
      "    orphaned  ∅: 0\n",
      "\n",
      "    all blocks processed successfully\n",
      "[             0              1              4 ... 16777191424009\n",
      " 16777199616004 16777207808001]\n"
     ]
    }
   ],
   "source": [
    "total_roi = daisy.Roi((0,), shape)  # total ROI to map process over\n",
    "block_roi = daisy.Roi((0,), (block_shape,))  # block ROI for parallel processing\n",
    "\n",
    "# creating a Daisy task, note that we do not specify how each\n",
    "# worker should read/write to input/output arrays\n",
    "task = daisy.Task(\n",
    "    total_roi=total_roi,\n",
    "    read_roi=block_roi,\n",
    "    write_roi=block_roi,\n",
    "    process_function=process_fn_daisy,\n",
    "    num_workers=8,\n",
    "    task_id='square',\n",
    ")\n",
    "\n",
    "daisy.run_blockwise([task])\n",
    "'''\n",
    "prints Execution Summary\n",
    "-----------------\n",
    "\n",
    "  Task square:\n",
    "\n",
    "    num blocks : 250\n",
    "    completed ✔: 250 (skipped 0)\n",
    "    failed    ✗: 0\n",
    "    orphaned  ∅: 0\n",
    "\n",
    "    all blocks processed successfully\n",
    "'''\n",
    "\n",
    "print(b.to_ndarray())\n",
    "# prints [0 1 4 ... 16777191424009 16777199616004 16777207808001]"
   ]
  },
  {
   "cell_type": "code",
   "execution_count": 10,
   "metadata": {},
   "outputs": [
    {
     "data": {
      "application/vnd.jupyter.widget-view+json": {
       "model_id": "138091b08a054e159484b50e4f963be7",
       "version_major": 2,
       "version_minor": 0
      },
      "text/plain": [
       "square ▶:   0%|          | 0/250 [00:00<?, ?blocks/s]"
      ]
     },
     "metadata": {},
     "output_type": "display_data"
    },
    {
     "name": "stdout",
     "output_type": "stream",
     "text": [
      "\n",
      "Execution Summary\n",
      "-----------------\n",
      "\n",
      "  Task square:\n",
      "\n",
      "    num blocks : 250\n",
      "    completed ✔: 250 (skipped 0)\n",
      "    failed    ✗: 0\n",
      "    orphaned  ∅: 0\n",
      "\n",
      "    all blocks processed successfully\n"
     ]
    },
    {
     "data": {
      "application/vnd.jupyter.widget-view+json": {
       "model_id": "5ca7d7b47b3b4659ae97bb0262951fd8",
       "version_major": 2,
       "version_minor": 0
      },
      "text/plain": [
       "square ▶:   0%|          | 0/250 [00:00<?, ?blocks/s]"
      ]
     },
     "metadata": {},
     "output_type": "display_data"
    },
    {
     "name": "stdout",
     "output_type": "stream",
     "text": [
      "\n",
      "Execution Summary\n",
      "-----------------\n",
      "\n",
      "  Task square:\n",
      "\n",
      "    num blocks : 250\n",
      "    completed ✔: 250 (skipped 0)\n",
      "    failed    ✗: 0\n",
      "    orphaned  ∅: 0\n",
      "\n",
      "    all blocks processed successfully\n"
     ]
    },
    {
     "data": {
      "application/vnd.jupyter.widget-view+json": {
       "model_id": "ceaf88e161394ed1aaf9f25901d59fe1",
       "version_major": 2,
       "version_minor": 0
      },
      "text/plain": [
       "square ▶:   0%|          | 0/250 [00:00<?, ?blocks/s]"
      ]
     },
     "metadata": {},
     "output_type": "display_data"
    },
    {
     "name": "stdout",
     "output_type": "stream",
     "text": [
      "\n",
      "Execution Summary\n",
      "-----------------\n",
      "\n",
      "  Task square:\n",
      "\n",
      "    num blocks : 250\n",
      "    completed ✔: 250 (skipped 0)\n",
      "    failed    ✗: 0\n",
      "    orphaned  ∅: 0\n",
      "\n",
      "    all blocks processed successfully\n"
     ]
    },
    {
     "data": {
      "application/vnd.jupyter.widget-view+json": {
       "model_id": "b242cb1312fa434db2293a569f85fc9d",
       "version_major": 2,
       "version_minor": 0
      },
      "text/plain": [
       "square ▶:   0%|          | 0/250 [00:00<?, ?blocks/s]"
      ]
     },
     "metadata": {},
     "output_type": "display_data"
    },
    {
     "name": "stdout",
     "output_type": "stream",
     "text": [
      "\n",
      "Execution Summary\n",
      "-----------------\n",
      "\n",
      "  Task square:\n",
      "\n",
      "    num blocks : 250\n",
      "    completed ✔: 250 (skipped 0)\n",
      "    failed    ✗: 0\n",
      "    orphaned  ∅: 0\n",
      "\n",
      "    all blocks processed successfully\n"
     ]
    },
    {
     "data": {
      "application/vnd.jupyter.widget-view+json": {
       "model_id": "dfd1b989495b4d41919033014e3ca60c",
       "version_major": 2,
       "version_minor": 0
      },
      "text/plain": [
       "square ▶:   0%|          | 0/250 [00:00<?, ?blocks/s]"
      ]
     },
     "metadata": {},
     "output_type": "display_data"
    },
    {
     "name": "stdout",
     "output_type": "stream",
     "text": [
      "\n",
      "Execution Summary\n",
      "-----------------\n",
      "\n",
      "  Task square:\n",
      "\n",
      "    num blocks : 250\n",
      "    completed ✔: 250 (skipped 0)\n",
      "    failed    ✗: 0\n",
      "    orphaned  ∅: 0\n",
      "\n",
      "    all blocks processed successfully\n"
     ]
    },
    {
     "data": {
      "application/vnd.jupyter.widget-view+json": {
       "model_id": "93630a3a9bbc4b8e8f53d860b682c853",
       "version_major": 2,
       "version_minor": 0
      },
      "text/plain": [
       "square ▶:   0%|          | 0/250 [00:00<?, ?blocks/s]"
      ]
     },
     "metadata": {},
     "output_type": "display_data"
    },
    {
     "name": "stdout",
     "output_type": "stream",
     "text": [
      "\n",
      "Execution Summary\n",
      "-----------------\n",
      "\n",
      "  Task square:\n",
      "\n",
      "    num blocks : 250\n",
      "    completed ✔: 250 (skipped 0)\n",
      "    failed    ✗: 0\n",
      "    orphaned  ∅: 0\n",
      "\n",
      "    all blocks processed successfully\n"
     ]
    },
    {
     "data": {
      "application/vnd.jupyter.widget-view+json": {
       "model_id": "2b9a4a4de1ff4f25af5a22ecf0491141",
       "version_major": 2,
       "version_minor": 0
      },
      "text/plain": [
       "square ▶:   0%|          | 0/250 [00:00<?, ?blocks/s]"
      ]
     },
     "metadata": {},
     "output_type": "display_data"
    },
    {
     "name": "stdout",
     "output_type": "stream",
     "text": [
      "\n",
      "Execution Summary\n",
      "-----------------\n",
      "\n",
      "  Task square:\n",
      "\n",
      "    num blocks : 250\n",
      "    completed ✔: 250 (skipped 0)\n",
      "    failed    ✗: 0\n",
      "    orphaned  ∅: 0\n",
      "\n",
      "    all blocks processed successfully\n"
     ]
    },
    {
     "data": {
      "application/vnd.jupyter.widget-view+json": {
       "model_id": "c380bb0b5e63465587ea61c254bb3bc4",
       "version_major": 2,
       "version_minor": 0
      },
      "text/plain": [
       "square ▶:   0%|          | 0/250 [00:00<?, ?blocks/s]"
      ]
     },
     "metadata": {},
     "output_type": "display_data"
    },
    {
     "name": "stdout",
     "output_type": "stream",
     "text": [
      "\n",
      "Execution Summary\n",
      "-----------------\n",
      "\n",
      "  Task square:\n",
      "\n",
      "    num blocks : 250\n",
      "    completed ✔: 250 (skipped 0)\n",
      "    failed    ✗: 0\n",
      "    orphaned  ∅: 0\n",
      "\n",
      "    all blocks processed successfully\n",
      "1.25 s ± 9.63 ms per loop (mean ± std. dev. of 7 runs, 1 loop each)\n"
     ]
    }
   ],
   "source": [
    "# run this to benchmark daisy!\n",
    "%timeit daisy.run_blockwise([task])"
   ]
  },
  {
   "cell_type": "code",
   "execution_count": 12,
   "metadata": {},
   "outputs": [
    {
     "data": {
      "application/vnd.jupyter.widget-view+json": {
       "model_id": "fcff3cc81b50408b9298cdb0903ef326",
       "version_major": 2,
       "version_minor": 0
      },
      "text/plain": [
       "sum_reduce ▶:   0%|          | 0/16 [00:00<?, ?blocks/s]"
      ]
     },
     "metadata": {},
     "output_type": "display_data"
    },
    {
     "name": "stdout",
     "output_type": "stream",
     "text": [
      "\n",
      "Execution Summary\n",
      "-----------------\n",
      "\n",
      "  Task sum_reduce:\n",
      "\n",
      "    num blocks : 16\n",
      "    completed ✔: 16 (skipped 0)\n",
      "    failed    ✗: 0\n",
      "    orphaned  ∅: 0\n",
      "\n",
      "    all blocks processed successfully\n",
      "[5592372565376000, 39146739029376000, 106255537493376000, 206918767957376000, 341136430421376000, 508908524885376000, 710235051349376000, 945116009813376000, 1213551400277376000, 1515541222741376000, 1851085477205376000, 2220184163669376000, 2622837282133376000, 3059044832597376000, 3528806815061376000, 4032123229525376000]\n"
     ]
    }
   ],
   "source": [
    "import multiprocessing\n",
    "\n",
    "reduce_shape = shape/16\n",
    "\n",
    "# while using zarr with daisy.Array can be easier to understand and less error prone, it is not a requirement.\n",
    "# Here we make a shared memory array for collecting results from different workers\n",
    "c = multiprocessing.Array('Q', range(int(shape/reduce_shape)))\n",
    "\n",
    "def process_fn_sum_reduce(block):\n",
    "    b_sub = b[block.write_roi].to_ndarray()\n",
    "    s = np.sum(b_sub)\n",
    "    # compute c idx based on block offset and shape\n",
    "    idx = (block.write_roi.offset / block.write_roi.shape)[0]\n",
    "    c[idx] = s\n",
    "\n",
    "total_roi = daisy.Roi((0,), shape)  # total ROI to map process over\n",
    "block_roi = daisy.Roi((0,), reduce_shape)  # block ROI for parallel processing\n",
    "\n",
    "task1 = daisy.Task(\n",
    "    total_roi=total_roi,\n",
    "    read_roi=block_roi,\n",
    "    write_roi=block_roi,\n",
    "    process_function=process_fn_sum_reduce,\n",
    "    num_workers=8,\n",
    "    task_id='sum_reduce',\n",
    ")\n",
    "\n",
    "daisy.run_blockwise([task1])\n",
    "print(c[:])\n"
   ]
  }
 ],
 "metadata": {
  "kernelspec": {
   "display_name": "Python 3",
   "language": "python",
   "name": "python3"
  },
  "language_info": {
   "codemirror_mode": {
    "name": "ipython",
    "version": 3
   },
   "file_extension": ".py",
   "mimetype": "text/x-python",
   "name": "python",
   "nbconvert_exporter": "python",
   "pygments_lexer": "ipython3",
   "version": "3.8.10"
  }
 },
 "nbformat": 4,
 "nbformat_minor": 4
}
